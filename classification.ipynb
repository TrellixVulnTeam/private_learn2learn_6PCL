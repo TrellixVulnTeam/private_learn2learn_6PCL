{
 "cells": [
  {
   "cell_type": "code",
   "execution_count": 12,
   "metadata": {},
   "outputs": [
    {
     "data": {
      "text/plain": [
       "[1.7083183526992798,\n",
       " 0.014834336005151272,\n",
       " 7.396909236907959,\n",
       " 7.727442264556885,\n",
       " 7.197617530822754,\n",
       " 6.3983354568481445,\n",
       " 5.643667697906494,\n",
       " 4.409168243408203,\n",
       " 2.9322569370269775,\n",
       " 1.3892192840576172,\n",
       " 0.34692323207855225,\n",
       " 0.07483236491680145,\n",
       " 0.015557356178760529,\n",
       " 0.0034141603391617537,\n",
       " 0.0007787294453009963,\n",
       " 0.00018904806347563863,\n",
       " 4.8636207793606445e-05,\n",
       " 1.2993727978027891e-05,\n",
       " 3.6954811548639555e-06,\n",
       " 1.0728830375228426e-06,\n",
       " 3.576278118089249e-07,\n",
       " 1.1920928244535389e-07,\n",
       " 0.0,\n",
       " 0.0,\n",
       " 0.0,\n",
       " 0.0,\n",
       " 0.0,\n",
       " 0.0,\n",
       " 0.0,\n",
       " 0.0,\n",
       " 0.0,\n",
       " 0.0,\n",
       " 0.0,\n",
       " 0.0,\n",
       " 0.0,\n",
       " 0.0,\n",
       " 0.0,\n",
       " 0.0,\n",
       " 0.0,\n",
       " 0.0,\n",
       " 0.0,\n",
       " 0.0,\n",
       " 0.0,\n",
       " 0.0,\n",
       " 0.0,\n",
       " 0.0,\n",
       " 0.0,\n",
       " 0.0,\n",
       " 0.0,\n",
       " 0.0,\n",
       " 0.0,\n",
       " 0.0,\n",
       " 0.0,\n",
       " 0.0,\n",
       " 0.0,\n",
       " 0.0,\n",
       " 0.0,\n",
       " 0.0,\n",
       " 0.0,\n",
       " 0.0,\n",
       " 0.0,\n",
       " 0.0,\n",
       " 0.0,\n",
       " 0.0,\n",
       " 0.0,\n",
       " 0.0,\n",
       " 0.0,\n",
       " 0.0,\n",
       " 0.0,\n",
       " 0.0,\n",
       " 0.0,\n",
       " 0.0,\n",
       " 0.0,\n",
       " 0.0,\n",
       " 0.0,\n",
       " 0.0,\n",
       " 0.0,\n",
       " 0.0,\n",
       " 0.0,\n",
       " 0.0,\n",
       " 0.0,\n",
       " 0.0,\n",
       " 0.0,\n",
       " 0.0,\n",
       " 0.0,\n",
       " 0.0,\n",
       " 0.0,\n",
       " 0.0,\n",
       " 0.0,\n",
       " 0.0,\n",
       " 0.0,\n",
       " 0.0,\n",
       " 0.0,\n",
       " 0.0,\n",
       " 0.0,\n",
       " 0.0,\n",
       " 0.0,\n",
       " 0.0,\n",
       " 0.0,\n",
       " 0.0]"
      ]
     },
     "execution_count": 12,
     "metadata": {},
     "output_type": "execute_result"
    }
   ],
   "source": [
    "import pandas as pd\n",
    "import os\n",
    "\n",
    "url = 'results'\n",
    "m1 = ['/dp', '/notdp']\n",
    "m2 = ['/member', '/notmember']\n",
    "\n",
    "for u in m1:\n",
    "    for k in m2:\n",
    "        add = url + u + k\n",
    "        os.\n",
    "[]\n",
    "[float(x) for x in pd.read_pickle('results/dp/member/target0.pkl')]"
   ]
  },
  {
   "cell_type": "code",
   "execution_count": 34,
   "metadata": {},
   "outputs": [
    {
     "data": {
      "text/plain": [
       "dict"
      ]
     },
     "execution_count": 34,
     "metadata": {},
     "output_type": "execute_result"
    }
   ],
   "source": [
    "df = {'dp/member': [], 'dp/notmember': [], 'nodp/member':[], 'nodp/notmember':[]}\n",
    "\n",
    "type(df)"
   ]
  },
  {
   "cell_type": "code",
   "execution_count": 35,
   "metadata": {},
   "outputs": [],
   "source": [
    "for path, subdirs, files in os.walk('results'):\n",
    "    for name in files:\n",
    "        df[path[len('results/'):]].append([float(x) for x in pd.read_pickle(os.path.join(path, name))])"
   ]
  },
  {
   "cell_type": "code",
   "execution_count": 62,
   "metadata": {},
   "outputs": [],
   "source": [
    "pandas_df = pd.DataFrame(df['nodp/notmember'])\n",
    "pandas_df['label'] = 1\n",
    "normal_df = pandas_df.copy()\n",
    "\n",
    "pandas_df = pd.DataFrame(df['nodp/member'])\n",
    "pandas_df['label'] = 0\n",
    "normal_df = normal_df.append(pandas_df)"
   ]
  },
  {
   "cell_type": "code",
   "execution_count": 63,
   "metadata": {},
   "outputs": [],
   "source": [
    "pandas_df = pd.DataFrame(df['dp/member'])\n",
    "pandas_df['label'] = 1\n",
    "dp_df = pandas_df.copy()\n",
    "\n",
    "pandas_df = pd.DataFrame(df['dp/notmember'])\n",
    "pandas_df['label'] = 0\n",
    "dp_df = dp_df.append(pandas_df)"
   ]
  },
  {
   "cell_type": "code",
   "execution_count": 86,
   "metadata": {},
   "outputs": [],
   "source": [
    "from sklearn import svm\n",
    "X = normal_df.iloc[:, :-1]\n",
    "Y = normal_df.iloc[:, -1]"
   ]
  },
  {
   "cell_type": "code",
   "execution_count": 84,
   "metadata": {},
   "outputs": [
    {
     "ename": "ValueError",
     "evalue": "Expected 2D array, got 1D array instead:\narray=[1.18479717e+00 4.53222215e-01 1.02235699e+00 7.51502275e-01\n 6.50525153e-01 4.53036726e-01 1.18184343e-01 1.11796632e-02\n 7.12141104e-04 3.68349938e-05 1.90734681e-06 1.19209282e-07\n 0.00000000e+00 0.00000000e+00 4.76837045e-07 6.67569793e-06\n 1.20036551e-04 2.26443727e-03 4.34443615e-02 0.00000000e+00\n 5.96046277e-07 5.44813347e+00 2.29395599e+01 3.81417046e+01\n 4.56663170e+01 4.90071030e+01 5.04688911e+01 5.09377975e+01\n 5.06414948e+01 4.97278519e+01 4.84497032e+01 4.69059525e+01\n 4.51856461e+01 4.35262642e+01 4.22275162e+01 4.13422813e+01\n 4.07910423e+01 4.03266983e+01 3.98515091e+01 3.93555756e+01\n 3.89246864e+01 3.85158920e+01 3.81626511e+01 3.78472137e+01\n 3.75638657e+01 3.72971420e+01 3.70397987e+01 3.67642899e+01\n 3.64652977e+01 3.61445770e+01 3.58006783e+01 3.54270477e+01\n 3.50248337e+01 3.45911713e+01 3.41165009e+01 3.35980682e+01\n 3.30440140e+01 3.24654846e+01 3.18632545e+01 3.12483292e+01\n 3.06353359e+01 3.00454521e+01 2.94910145e+01 2.89831657e+01\n 2.85319710e+01 2.81402473e+01 2.78063297e+01 2.75251808e+01\n 2.72894363e+01 2.70917015e+01 2.69251041e+01 2.67829056e+01\n 2.66603127e+01 2.65535812e+01 2.64596252e+01 2.63760529e+01\n 2.63020554e+01 2.62353611e+01 2.61738110e+01 2.61161232e+01\n 2.60613365e+01 2.60089550e+01 2.59585800e+01 2.59093208e+01\n 2.58610420e+01 2.58129654e+01 2.57649307e+01 2.57166595e+01\n 2.56681004e+01 2.56191483e+01 2.55697708e+01 2.55200043e+01\n 2.54697266e+01 2.54190083e+01 2.53678169e+01 2.53163643e+01\n 2.52644348e+01 2.52122002e+01 2.51596947e+01 2.51069870e+01].\nReshape your data either using array.reshape(-1, 1) if your data has a single feature or array.reshape(1, -1) if it contains a single sample.",
     "output_type": "error",
     "traceback": [
      "\u001b[0;31m---------------------------------------------------------------------------\u001b[0m",
      "\u001b[0;31mValueError\u001b[0m                                Traceback (most recent call last)",
      "\u001b[0;32m<ipython-input-84-fe1785461501>\u001b[0m in \u001b[0;36m<module>\u001b[0;34m\u001b[0m\n\u001b[0;32m----> 1\u001b[0;31m \u001b[0mmodel\u001b[0m\u001b[0;34m.\u001b[0m\u001b[0mpredict\u001b[0m\u001b[0;34m(\u001b[0m\u001b[0mX_test\u001b[0m\u001b[0;34m.\u001b[0m\u001b[0miloc\u001b[0m\u001b[0;34m[\u001b[0m\u001b[0;36m0\u001b[0m\u001b[0;34m]\u001b[0m\u001b[0;34m)\u001b[0m\u001b[0;34m\u001b[0m\u001b[0;34m\u001b[0m\u001b[0m\n\u001b[0m",
      "\u001b[0;32m~/opt/anaconda3/lib/python3.8/site-packages/sklearn/svm/_base.py\u001b[0m in \u001b[0;36mpredict\u001b[0;34m(self, X)\u001b[0m\n\u001b[1;32m    613\u001b[0m             \u001b[0my\u001b[0m \u001b[0;34m=\u001b[0m \u001b[0mnp\u001b[0m\u001b[0;34m.\u001b[0m\u001b[0margmax\u001b[0m\u001b[0;34m(\u001b[0m\u001b[0mself\u001b[0m\u001b[0;34m.\u001b[0m\u001b[0mdecision_function\u001b[0m\u001b[0;34m(\u001b[0m\u001b[0mX\u001b[0m\u001b[0;34m)\u001b[0m\u001b[0;34m,\u001b[0m \u001b[0maxis\u001b[0m\u001b[0;34m=\u001b[0m\u001b[0;36m1\u001b[0m\u001b[0;34m)\u001b[0m\u001b[0;34m\u001b[0m\u001b[0;34m\u001b[0m\u001b[0m\n\u001b[1;32m    614\u001b[0m         \u001b[0;32melse\u001b[0m\u001b[0;34m:\u001b[0m\u001b[0;34m\u001b[0m\u001b[0;34m\u001b[0m\u001b[0m\n\u001b[0;32m--> 615\u001b[0;31m             \u001b[0my\u001b[0m \u001b[0;34m=\u001b[0m \u001b[0msuper\u001b[0m\u001b[0;34m(\u001b[0m\u001b[0;34m)\u001b[0m\u001b[0;34m.\u001b[0m\u001b[0mpredict\u001b[0m\u001b[0;34m(\u001b[0m\u001b[0mX\u001b[0m\u001b[0;34m)\u001b[0m\u001b[0;34m\u001b[0m\u001b[0;34m\u001b[0m\u001b[0m\n\u001b[0m\u001b[1;32m    616\u001b[0m         \u001b[0;32mreturn\u001b[0m \u001b[0mself\u001b[0m\u001b[0;34m.\u001b[0m\u001b[0mclasses_\u001b[0m\u001b[0;34m.\u001b[0m\u001b[0mtake\u001b[0m\u001b[0;34m(\u001b[0m\u001b[0mnp\u001b[0m\u001b[0;34m.\u001b[0m\u001b[0masarray\u001b[0m\u001b[0;34m(\u001b[0m\u001b[0my\u001b[0m\u001b[0;34m,\u001b[0m \u001b[0mdtype\u001b[0m\u001b[0;34m=\u001b[0m\u001b[0mnp\u001b[0m\u001b[0;34m.\u001b[0m\u001b[0mintp\u001b[0m\u001b[0;34m)\u001b[0m\u001b[0;34m)\u001b[0m\u001b[0;34m\u001b[0m\u001b[0;34m\u001b[0m\u001b[0m\n\u001b[1;32m    617\u001b[0m \u001b[0;34m\u001b[0m\u001b[0m\n",
      "\u001b[0;32m~/opt/anaconda3/lib/python3.8/site-packages/sklearn/svm/_base.py\u001b[0m in \u001b[0;36mpredict\u001b[0;34m(self, X)\u001b[0m\n\u001b[1;32m    331\u001b[0m         \u001b[0my_pred\u001b[0m \u001b[0;34m:\u001b[0m \u001b[0mndarray\u001b[0m \u001b[0mof\u001b[0m \u001b[0mshape\u001b[0m \u001b[0;34m(\u001b[0m\u001b[0mn_samples\u001b[0m\u001b[0;34m,\u001b[0m\u001b[0;34m)\u001b[0m\u001b[0;34m\u001b[0m\u001b[0;34m\u001b[0m\u001b[0m\n\u001b[1;32m    332\u001b[0m         \"\"\"\n\u001b[0;32m--> 333\u001b[0;31m         \u001b[0mX\u001b[0m \u001b[0;34m=\u001b[0m \u001b[0mself\u001b[0m\u001b[0;34m.\u001b[0m\u001b[0m_validate_for_predict\u001b[0m\u001b[0;34m(\u001b[0m\u001b[0mX\u001b[0m\u001b[0;34m)\u001b[0m\u001b[0;34m\u001b[0m\u001b[0;34m\u001b[0m\u001b[0m\n\u001b[0m\u001b[1;32m    334\u001b[0m         \u001b[0mpredict\u001b[0m \u001b[0;34m=\u001b[0m \u001b[0mself\u001b[0m\u001b[0;34m.\u001b[0m\u001b[0m_sparse_predict\u001b[0m \u001b[0;32mif\u001b[0m \u001b[0mself\u001b[0m\u001b[0;34m.\u001b[0m\u001b[0m_sparse\u001b[0m \u001b[0;32melse\u001b[0m \u001b[0mself\u001b[0m\u001b[0;34m.\u001b[0m\u001b[0m_dense_predict\u001b[0m\u001b[0;34m\u001b[0m\u001b[0;34m\u001b[0m\u001b[0m\n\u001b[1;32m    335\u001b[0m         \u001b[0;32mreturn\u001b[0m \u001b[0mpredict\u001b[0m\u001b[0;34m(\u001b[0m\u001b[0mX\u001b[0m\u001b[0;34m)\u001b[0m\u001b[0;34m\u001b[0m\u001b[0;34m\u001b[0m\u001b[0m\n",
      "\u001b[0;32m~/opt/anaconda3/lib/python3.8/site-packages/sklearn/svm/_base.py\u001b[0m in \u001b[0;36m_validate_for_predict\u001b[0;34m(self, X)\u001b[0m\n\u001b[1;32m    463\u001b[0m \u001b[0;34m\u001b[0m\u001b[0m\n\u001b[1;32m    464\u001b[0m         \u001b[0;32mif\u001b[0m \u001b[0;32mnot\u001b[0m \u001b[0mcallable\u001b[0m\u001b[0;34m(\u001b[0m\u001b[0mself\u001b[0m\u001b[0;34m.\u001b[0m\u001b[0mkernel\u001b[0m\u001b[0;34m)\u001b[0m\u001b[0;34m:\u001b[0m\u001b[0;34m\u001b[0m\u001b[0;34m\u001b[0m\u001b[0m\n\u001b[0;32m--> 465\u001b[0;31m             X = check_array(X, accept_sparse='csr', dtype=np.float64,\n\u001b[0m\u001b[1;32m    466\u001b[0m                             order=\"C\", accept_large_sparse=False)\n\u001b[1;32m    467\u001b[0m \u001b[0;34m\u001b[0m\u001b[0m\n",
      "\u001b[0;32m~/opt/anaconda3/lib/python3.8/site-packages/sklearn/utils/validation.py\u001b[0m in \u001b[0;36minner_f\u001b[0;34m(*args, **kwargs)\u001b[0m\n\u001b[1;32m     70\u001b[0m                           FutureWarning)\n\u001b[1;32m     71\u001b[0m         \u001b[0mkwargs\u001b[0m\u001b[0;34m.\u001b[0m\u001b[0mupdate\u001b[0m\u001b[0;34m(\u001b[0m\u001b[0;34m{\u001b[0m\u001b[0mk\u001b[0m\u001b[0;34m:\u001b[0m \u001b[0marg\u001b[0m \u001b[0;32mfor\u001b[0m \u001b[0mk\u001b[0m\u001b[0;34m,\u001b[0m \u001b[0marg\u001b[0m \u001b[0;32min\u001b[0m \u001b[0mzip\u001b[0m\u001b[0;34m(\u001b[0m\u001b[0msig\u001b[0m\u001b[0;34m.\u001b[0m\u001b[0mparameters\u001b[0m\u001b[0;34m,\u001b[0m \u001b[0margs\u001b[0m\u001b[0;34m)\u001b[0m\u001b[0;34m}\u001b[0m\u001b[0;34m)\u001b[0m\u001b[0;34m\u001b[0m\u001b[0;34m\u001b[0m\u001b[0m\n\u001b[0;32m---> 72\u001b[0;31m         \u001b[0;32mreturn\u001b[0m \u001b[0mf\u001b[0m\u001b[0;34m(\u001b[0m\u001b[0;34m**\u001b[0m\u001b[0mkwargs\u001b[0m\u001b[0;34m)\u001b[0m\u001b[0;34m\u001b[0m\u001b[0;34m\u001b[0m\u001b[0m\n\u001b[0m\u001b[1;32m     73\u001b[0m     \u001b[0;32mreturn\u001b[0m \u001b[0minner_f\u001b[0m\u001b[0;34m\u001b[0m\u001b[0;34m\u001b[0m\u001b[0m\n\u001b[1;32m     74\u001b[0m \u001b[0;34m\u001b[0m\u001b[0m\n",
      "\u001b[0;32m~/opt/anaconda3/lib/python3.8/site-packages/sklearn/utils/validation.py\u001b[0m in \u001b[0;36mcheck_array\u001b[0;34m(array, accept_sparse, accept_large_sparse, dtype, order, copy, force_all_finite, ensure_2d, allow_nd, ensure_min_samples, ensure_min_features, estimator)\u001b[0m\n\u001b[1;32m    617\u001b[0m             \u001b[0;31m# If input is 1D raise error\u001b[0m\u001b[0;34m\u001b[0m\u001b[0;34m\u001b[0m\u001b[0;34m\u001b[0m\u001b[0m\n\u001b[1;32m    618\u001b[0m             \u001b[0;32mif\u001b[0m \u001b[0marray\u001b[0m\u001b[0;34m.\u001b[0m\u001b[0mndim\u001b[0m \u001b[0;34m==\u001b[0m \u001b[0;36m1\u001b[0m\u001b[0;34m:\u001b[0m\u001b[0;34m\u001b[0m\u001b[0;34m\u001b[0m\u001b[0m\n\u001b[0;32m--> 619\u001b[0;31m                 raise ValueError(\n\u001b[0m\u001b[1;32m    620\u001b[0m                     \u001b[0;34m\"Expected 2D array, got 1D array instead:\\narray={}.\\n\"\u001b[0m\u001b[0;34m\u001b[0m\u001b[0;34m\u001b[0m\u001b[0m\n\u001b[1;32m    621\u001b[0m                     \u001b[0;34m\"Reshape your data either using array.reshape(-1, 1) if \"\u001b[0m\u001b[0;34m\u001b[0m\u001b[0;34m\u001b[0m\u001b[0m\n",
      "\u001b[0;31mValueError\u001b[0m: Expected 2D array, got 1D array instead:\narray=[1.18479717e+00 4.53222215e-01 1.02235699e+00 7.51502275e-01\n 6.50525153e-01 4.53036726e-01 1.18184343e-01 1.11796632e-02\n 7.12141104e-04 3.68349938e-05 1.90734681e-06 1.19209282e-07\n 0.00000000e+00 0.00000000e+00 4.76837045e-07 6.67569793e-06\n 1.20036551e-04 2.26443727e-03 4.34443615e-02 0.00000000e+00\n 5.96046277e-07 5.44813347e+00 2.29395599e+01 3.81417046e+01\n 4.56663170e+01 4.90071030e+01 5.04688911e+01 5.09377975e+01\n 5.06414948e+01 4.97278519e+01 4.84497032e+01 4.69059525e+01\n 4.51856461e+01 4.35262642e+01 4.22275162e+01 4.13422813e+01\n 4.07910423e+01 4.03266983e+01 3.98515091e+01 3.93555756e+01\n 3.89246864e+01 3.85158920e+01 3.81626511e+01 3.78472137e+01\n 3.75638657e+01 3.72971420e+01 3.70397987e+01 3.67642899e+01\n 3.64652977e+01 3.61445770e+01 3.58006783e+01 3.54270477e+01\n 3.50248337e+01 3.45911713e+01 3.41165009e+01 3.35980682e+01\n 3.30440140e+01 3.24654846e+01 3.18632545e+01 3.12483292e+01\n 3.06353359e+01 3.00454521e+01 2.94910145e+01 2.89831657e+01\n 2.85319710e+01 2.81402473e+01 2.78063297e+01 2.75251808e+01\n 2.72894363e+01 2.70917015e+01 2.69251041e+01 2.67829056e+01\n 2.66603127e+01 2.65535812e+01 2.64596252e+01 2.63760529e+01\n 2.63020554e+01 2.62353611e+01 2.61738110e+01 2.61161232e+01\n 2.60613365e+01 2.60089550e+01 2.59585800e+01 2.59093208e+01\n 2.58610420e+01 2.58129654e+01 2.57649307e+01 2.57166595e+01\n 2.56681004e+01 2.56191483e+01 2.55697708e+01 2.55200043e+01\n 2.54697266e+01 2.54190083e+01 2.53678169e+01 2.53163643e+01\n 2.52644348e+01 2.52122002e+01 2.51596947e+01 2.51069870e+01].\nReshape your data either using array.reshape(-1, 1) if your data has a single feature or array.reshape(1, -1) if it contains a single sample."
     ]
    }
   ],
   "source": [
    "from sklearn import metrics\n",
    "\n",
    "print(\"Accuracy:\",metrics.accuracy_score(y_test, y_pred))"
   ]
  },
  {
   "cell_type": "code",
   "execution_count": 81,
   "metadata": {},
   "outputs": [
    {
     "data": {
      "text/plain": [
       "array([1.18479717e+00, 4.53222215e-01, 1.02235699e+00, 7.51502275e-01,\n",
       "       6.50525153e-01, 4.53036726e-01, 1.18184343e-01, 1.11796632e-02,\n",
       "       7.12141104e-04, 3.68349938e-05, 1.90734681e-06, 1.19209282e-07,\n",
       "       0.00000000e+00, 0.00000000e+00, 4.76837045e-07, 6.67569793e-06,\n",
       "       1.20036551e-04, 2.26443727e-03, 4.34443615e-02, 0.00000000e+00,\n",
       "       5.96046277e-07, 5.44813347e+00, 2.29395599e+01, 3.81417046e+01,\n",
       "       4.56663170e+01, 4.90071030e+01, 5.04688911e+01, 5.09377975e+01,\n",
       "       5.06414948e+01, 4.97278519e+01, 4.84497032e+01, 4.69059525e+01,\n",
       "       4.51856461e+01, 4.35262642e+01, 4.22275162e+01, 4.13422813e+01,\n",
       "       4.07910423e+01, 4.03266983e+01, 3.98515091e+01, 3.93555756e+01,\n",
       "       3.89246864e+01, 3.85158920e+01, 3.81626511e+01, 3.78472137e+01,\n",
       "       3.75638657e+01, 3.72971420e+01, 3.70397987e+01, 3.67642899e+01,\n",
       "       3.64652977e+01, 3.61445770e+01, 3.58006783e+01, 3.54270477e+01,\n",
       "       3.50248337e+01, 3.45911713e+01, 3.41165009e+01, 3.35980682e+01,\n",
       "       3.30440140e+01, 3.24654846e+01, 3.18632545e+01, 3.12483292e+01,\n",
       "       3.06353359e+01, 3.00454521e+01, 2.94910145e+01, 2.89831657e+01,\n",
       "       2.85319710e+01, 2.81402473e+01, 2.78063297e+01, 2.75251808e+01,\n",
       "       2.72894363e+01, 2.70917015e+01, 2.69251041e+01, 2.67829056e+01,\n",
       "       2.66603127e+01, 2.65535812e+01, 2.64596252e+01, 2.63760529e+01,\n",
       "       2.63020554e+01, 2.62353611e+01, 2.61738110e+01, 2.61161232e+01,\n",
       "       2.60613365e+01, 2.60089550e+01, 2.59585800e+01, 2.59093208e+01,\n",
       "       2.58610420e+01, 2.58129654e+01, 2.57649307e+01, 2.57166595e+01,\n",
       "       2.56681004e+01, 2.56191483e+01, 2.55697708e+01, 2.55200043e+01,\n",
       "       2.54697266e+01, 2.54190083e+01, 2.53678169e+01, 2.53163643e+01,\n",
       "       2.52644348e+01, 2.52122002e+01, 2.51596947e+01, 2.51069870e+01])"
      ]
     },
     "execution_count": 81,
     "metadata": {},
     "output_type": "execute_result"
    }
   ],
   "source": [
    "import numpy as np\n",
    "np.array(X_test.iloc[0])"
   ]
  },
  {
   "cell_type": "code",
   "execution_count": 78,
   "metadata": {},
   "outputs": [
    {
     "data": {
      "text/plain": [
       "numpy.int64"
      ]
     },
     "execution_count": 78,
     "metadata": {},
     "output_type": "execute_result"
    }
   ],
   "source": [
    "type(Y_test.iloc[0])"
   ]
  },
  {
   "cell_type": "code",
   "execution_count": null,
   "metadata": {},
   "outputs": [],
   "source": []
  }
 ],
 "metadata": {
  "interpreter": {
   "hash": "3747ee4e158c8e0cb2993b21b7f65fb04016c619ce01bc4ed7303922587fb041"
  },
  "kernelspec": {
   "display_name": "Python 3.8.5 ('base')",
   "language": "python",
   "name": "python3"
  },
  "language_info": {
   "codemirror_mode": {
    "name": "ipython",
    "version": 3
   },
   "file_extension": ".py",
   "mimetype": "text/x-python",
   "name": "python",
   "nbconvert_exporter": "python",
   "pygments_lexer": "ipython3",
   "version": "3.8.5"
  },
  "orig_nbformat": 4
 },
 "nbformat": 4,
 "nbformat_minor": 2
}
